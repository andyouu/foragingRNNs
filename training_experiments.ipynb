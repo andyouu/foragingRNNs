{
 "cells": [
  {
   "attachments": {},
   "cell_type": "markdown",
   "metadata": {},
   "source": [
    "## Explore the impact of the number of steps per period on learning"
   ]
  },
  {
   "cell_type": "code",
   "execution_count": 16,
   "metadata": {},
   "outputs": [],
   "source": [
    "# import libraries\n",
    "import torch.nn as nn\n",
    "import torch\n",
    "import numpy as np\n",
    "from forage_training import train_multiple_networks\n",
    "from forage_analysis import plot_mean_perf_by_seq_len\n",
    "import ngym_foraging as ngym_f\n",
    "from ngym_foraging.wrappers import pass_reward, pass_action\n",
    "import gym\n",
    "import os\n",
    "\n",
    "# global variables\n",
    "# check if GPU is available\n",
    "DEVICE = 'cuda' if torch.cuda.is_available() else 'cpu'\n",
    "\n",
    "# name of the task on the neurogym library\n",
    "TASK = 'ForagingBlocks-v0'\n",
    "\n",
    "TRAINING_KWARGS = {'dt': 100,\n",
    "                   'lr': 1e-2,\n",
    "                   'n_epochs': 100,\n",
    "                   'batch_size': 16,\n",
    "                   'seq_len': 300,\n",
    "                   'TASK': TASK}"
   ]
  },
  {
   "cell_type": "code",
   "execution_count": 17,
   "metadata": {},
   "outputs": [],
   "source": [
    "# define parameters configuration\n",
    "env_seed = 123\n",
    "total_num_timesteps = 60000\n",
    "num_periods = 2000\n",
    "env_seed = 123\n",
    "num_periods = 40\n",
    "TRAINING_KWARGS['num_periods'] = num_periods\n",
    "# create folder to save data based on env seed\n",
    "main_folder = 'C:/Users/saraf/OneDrive/Documentos/IDIBAPS/foraging RNNs/nets/'\n",
    "# main_folder = '/home/molano/foragingRNNs_data/nets/'\n",
    "# Set up the task\n",
    "w_factor = 0.00001\n",
    "mean_ITI = 200\n",
    "max_ITI = 400\n",
    "fix_dur = 100\n",
    "dec_dur = 100\n",
    "blk_dur = 50\n",
    "probs = np.array([0.1, 0.9])\n",
    "num_networks = 4\n",
    "num_epochs = 100 # ??\n",
    "env_kwargs = {'dt': TRAINING_KWARGS['dt'], 'probs': probs,\n",
    "              'blk_dur': blk_dur, 'timing':\n",
    "                  {'ITI': ngym_f.random.TruncExp(mean_ITI, 100, max_ITI),\n",
    "                    # mean, min, max\n",
    "                    'fixation': fix_dur, 'decision': dec_dur},\n",
    "                  # Decision period}\n",
    "                  'rewards': {'abort': 0., 'fixation': 0., 'correct': 1.}}\n",
    "TRAINING_KWARGS['classes_weights'] =\\\n",
    "    torch.tensor([w_factor*TRAINING_KWARGS['dt']/(mean_ITI),\n",
    "                  w_factor*TRAINING_KWARGS['dt']/fix_dur, 2, 2])\n",
    "# call function to sample\n",
    "env = gym.make(TASK, **env_kwargs)\n",
    "env = pass_reward.PassReward(env)\n",
    "env = pass_action.PassAction(env)\n",
    "# set seed\n",
    "env.seed(env_seed)\n",
    "env.reset()\n",
    "net_kwargs = {'hidden_size': 128,\n",
    "              'action_size': env.action_space.n,\n",
    "              'input_size': env.observation_space.shape[0]}\n",
    "TRAINING_KWARGS['env_kwargs'] = env_kwargs\n",
    "TRAINING_KWARGS['net_kwargs'] = net_kwargs\n",
    "\n",
    "# create folder to save data based on parameters\n",
    "save_folder = (f\"{main_folder}w{w_factor}_mITI{mean_ITI}_xITI{max_ITI}_f{fix_dur}_\"\n",
    "                f\"d{dec_dur}_nb{np.round(blk_dur/1e3, 1)}_\"\n",
    "                f\"prb{probs[0]}\")\n",
    "\n",
    "# create folder to save data based on env seed\n",
    "os.makedirs(save_folder + 'n_pers_'+str(np.round(num_periods/1e3, 1))+'k_'+'s_'+str(env_seed),\n",
    "            exist_ok=True)\n",
    "\n",
    "# Save config as npz\n",
    "np.savez(save_folder+'/config.npz', **TRAINING_KWARGS)\n",
    "\n",
    "num_epochs = TRAINING_KWARGS['n_epochs']\n",
    "num_steps_plot = 100\n",
    "num_steps_test = 1000\n",
    "debug = False\n",
    "num_networks = 1\n",
    "criterion = nn.CrossEntropyLoss(weight=TRAINING_KWARGS['classes_weights'])"
   ]
  },
  {
   "cell_type": "code",
   "execution_count": 18,
   "metadata": {},
   "outputs": [
    {
     "ename": "TypeError",
     "evalue": "train_multiple_networks() missing 1 required positional argument: 'num_epochs'",
     "output_type": "error",
     "traceback": [
      "\u001b[1;31m---------------------------------------------------------------------------\u001b[0m",
      "\u001b[1;31mTypeError\u001b[0m                                 Traceback (most recent call last)",
      "Cell \u001b[1;32mIn[18], line 6\u001b[0m\n\u001b[0;32m      4\u001b[0m \u001b[38;5;28;01mfor\u001b[39;00m seq_len \u001b[38;5;129;01min\u001b[39;00m seq_len_mat:\n\u001b[0;32m      5\u001b[0m   num_periods \u001b[38;5;241m=\u001b[39m total_num_timesteps \u001b[38;5;241m/\u001b[39m\u001b[38;5;241m/\u001b[39m seq_len\n\u001b[1;32m----> 6\u001b[0m   mean_perf_list, _ \u001b[38;5;241m=\u001b[39m train_multiple_networks(mean_ITI\u001b[38;5;241m=\u001b[39mmean_ITI, fix_dur\u001b[38;5;241m=\u001b[39mfix_dur, blk_dur\u001b[38;5;241m=\u001b[39mblk_dur,\n\u001b[0;32m      7\u001b[0m                             num_networks\u001b[38;5;241m=\u001b[39mnum_networks, env\u001b[38;5;241m=\u001b[39menv,\n\u001b[0;32m      8\u001b[0m                             env_seed\u001b[38;5;241m=\u001b[39menv_seed, main_folder\u001b[38;5;241m=\u001b[39mmain_folder, save_folder\u001b[38;5;241m=\u001b[39msave_folder,\n\u001b[0;32m      9\u001b[0m                             env_kwargs\u001b[38;5;241m=\u001b[39menv_kwargs, net_kwargs\u001b[38;5;241m=\u001b[39mnet_kwargs, criterion\u001b[38;5;241m=\u001b[39mcriterion,\n\u001b[0;32m     10\u001b[0m                             num_periods\u001b[38;5;241m=\u001b[39mnum_periods, seq_len\u001b[38;5;241m=\u001b[39mseq_len)\n\u001b[0;32m     11\u001b[0m   mean_perf_lists\u001b[38;5;241m.\u001b[39mappend(mean_perf_list)\n\u001b[0;32m     13\u001b[0m \u001b[38;5;66;03m# plot performance\u001b[39;00m\n",
      "\u001b[1;31mTypeError\u001b[0m: train_multiple_networks() missing 1 required positional argument: 'num_epochs'"
     ]
    }
   ],
   "source": [
    "# define parameter to explore\n",
    "seq_len_mat = np.array([10, 20, 30, 40, 50, 60, 70, 80, 90, 100])\n",
    "mean_perf_lists = []\n",
    "for seq_len in seq_len_mat:\n",
    "  num_periods = total_num_timesteps // seq_len\n",
    "  mean_perf_list, _ = train_multiple_networks(mean_ITI=mean_ITI, fix_dur=fix_dur, blk_dur=blk_dur,\n",
    "                            num_networks=num_networks, env=env,\n",
    "                            env_seed=env_seed, main_folder=main_folder, save_folder=save_folder,\n",
    "                            env_kwargs=env_kwargs, net_kwargs=net_kwargs, criterion=criterion,\n",
    "                            num_periods=num_periods, seq_len=seq_len)\n",
    "  mean_perf_lists.append(mean_perf_list)\n",
    "    \n",
    "# plot performance\n",
    "plot_mean_perf_by_seq_len(mean_perf_lists, seq_len_mat)"
   ]
  }
 ],
 "metadata": {
  "kernelspec": {
   "display_name": "base",
   "language": "python",
   "name": "python3"
  },
  "language_info": {
   "codemirror_mode": {
    "name": "ipython",
    "version": 3
   },
   "file_extension": ".py",
   "mimetype": "text/x-python",
   "name": "python",
   "nbconvert_exporter": "python",
   "pygments_lexer": "ipython3",
   "version": "3.11.5"
  },
  "orig_nbformat": 4
 },
 "nbformat": 4,
 "nbformat_minor": 2
}
