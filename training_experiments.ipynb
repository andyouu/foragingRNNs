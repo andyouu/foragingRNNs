{
 "cells": [
  {
   "attachments": {},
   "cell_type": "markdown",
   "metadata": {},
   "source": [
    "## Explore the impact of the number of steps per period on learning"
   ]
  },
  {
   "cell_type": "code",
   "execution_count": 18,
   "metadata": {},
   "outputs": [],
   "source": [
    "# import libraries\n",
    "import torch.nn as nn\n",
    "import torch\n",
    "import numpy as np\n",
    "from forage_training import train_multiple_networks\n",
    "from forage_analysis import plot_mean_perf_by_seq_len\n",
    "import ngym_foraging as ngym_f\n",
    "from ngym_foraging.wrappers import pass_reward, pass_action\n",
    "import gym\n",
    "import os\n",
    "\n",
    "# global variables\n",
    "# check if GPU is available\n",
    "DEVICE = 'cuda' if torch.cuda.is_available() else 'cpu'\n",
    "\n",
    "# name of the task on the neurogym library\n",
    "TASK = 'ForagingBlocks-v0'\n",
    "\n",
    "TRAINING_KWARGS = {'dt': 100,\n",
    "                   'lr': 1e-2,\n",
    "                   'n_epochs': 100,\n",
    "                   'batch_size': 16,\n",
    "                   'seq_len': 300,\n",
    "                   'TASK': TASK}"
   ]
  },
  {
   "cell_type": "code",
   "execution_count": 19,
   "metadata": {},
   "outputs": [
    {
     "name": "stderr",
     "output_type": "stream",
     "text": [
      "c:\\Users\\saraf\\anaconda3\\Lib\\site-packages\\gym\\utils\\passive_env_checker.py:219: DeprecationWarning: \u001b[33mWARN: Core environment is written in old step API which returns one bool instead of two. It is recommended to rewrite the environment with new step API. \u001b[0m\n",
      "  logger.deprecation(\n",
      "c:\\Users\\saraf\\anaconda3\\Lib\\site-packages\\gym\\utils\\passive_env_checker.py:225: DeprecationWarning: `np.bool8` is a deprecated alias for `np.bool_`.  (Deprecated NumPy 1.24)\n",
      "  if not isinstance(done, (bool, np.bool8)):\n",
      "c:\\Users\\saraf\\anaconda3\\Lib\\site-packages\\gym\\utils\\passive_env_checker.py:195: UserWarning: \u001b[33mWARN: The result returned by `env.reset()` was not a tuple of the form `(obs, info)`, where `obs` is a observation and `info` is a dictionary containing additional information. Actual type: `<class 'numpy.ndarray'>`\u001b[0m\n",
      "  logger.warn(\n"
     ]
    }
   ],
   "source": [
    "# define parameters configuration\n",
    "env_seed = 123\n",
    "total_num_timesteps = 6000\n",
    "num_periods = 2000\n",
    "env_seed = 123\n",
    "num_periods = 40\n",
    "TRAINING_KWARGS['num_periods'] = num_periods\n",
    "# create folder to save data based on env seed\n",
    "main_folder = 'C:/Users/saraf/OneDrive/Documentos/IDIBAPS/foraging RNNs/nets/'\n",
    "# main_folder = '/home/molano/foragingRNNs_data/nets/'\n",
    "# Set up the task\n",
    "w_factor = 0.00001\n",
    "mean_ITI = 200\n",
    "max_ITI = 400\n",
    "fix_dur = 100\n",
    "dec_dur = 100\n",
    "blk_dur = 50\n",
    "probs = np.array([0.1, 0.9])\n",
    "num_epochs = 100 # ??\n",
    "env_kwargs = {'dt': TRAINING_KWARGS['dt'], 'probs': probs,\n",
    "              'blk_dur': blk_dur, 'timing':\n",
    "                  {'ITI': ngym_f.random.TruncExp(mean_ITI, 100, max_ITI),\n",
    "                    # mean, min, max\n",
    "                    'fixation': fix_dur, 'decision': dec_dur},\n",
    "                  # Decision period}\n",
    "                  'rewards': {'abort': 0., 'fixation': 0., 'correct': 1.}}\n",
    "TRAINING_KWARGS['classes_weights'] =\\\n",
    "    torch.tensor([w_factor*TRAINING_KWARGS['dt']/(mean_ITI),\n",
    "                  w_factor*TRAINING_KWARGS['dt']/fix_dur, 2, 2])\n",
    "# call function to sample\n",
    "env = gym.make(TASK, **env_kwargs)\n",
    "env = pass_reward.PassReward(env)\n",
    "env = pass_action.PassAction(env)\n",
    "# set seed\n",
    "env.seed(env_seed)\n",
    "env.reset()\n",
    "net_kwargs = {'hidden_size': 128,\n",
    "              'action_size': env.action_space.n,\n",
    "              'input_size': env.observation_space.shape[0]}\n",
    "TRAINING_KWARGS['env_kwargs'] = env_kwargs\n",
    "TRAINING_KWARGS['net_kwargs'] = net_kwargs\n",
    "\n",
    "# create folder to save data based on parameters\n",
    "save_folder = (f\"{main_folder}w{w_factor}_mITI{mean_ITI}_xITI{max_ITI}_f{fix_dur}_\"\n",
    "                f\"d{dec_dur}_nb{np.round(blk_dur/1e3, 1)}_\"\n",
    "                f\"prb{probs[0]}\")\n",
    "\n",
    "# create folder to save data based on env seed\n",
    "os.makedirs(save_folder + 'n_pers_'+str(np.round(num_periods/1e3, 1))+'k_'+'s_'+str(env_seed),\n",
    "            exist_ok=True)\n",
    "\n",
    "# Save config as npz\n",
    "np.savez(save_folder+'/config.npz', **TRAINING_KWARGS)\n",
    "\n",
    "num_epochs = TRAINING_KWARGS['n_epochs']\n",
    "num_steps_plot = 100\n",
    "num_steps_test = 1000\n",
    "debug = False\n",
    "num_networks = 4\n",
    "criterion = nn.CrossEntropyLoss(weight=TRAINING_KWARGS['classes_weights'])"
   ]
  },
  {
   "cell_type": "code",
   "execution_count": 20,
   "metadata": {},
   "outputs": [
    {
     "name": "stderr",
     "output_type": "stream",
     "text": [
      "c:\\Users\\saraf\\anaconda3\\Lib\\site-packages\\seaborn\\categorical.py:166: FutureWarning: Setting a gradient palette using color= is deprecated and will be removed in version 0.13. Set `palette='dark:k'` for same effect.\n",
      "  warnings.warn(msg, FutureWarning)\n",
      "c:\\Users\\saraf\\anaconda3\\Lib\\site-packages\\seaborn\\_oldcore.py:1119: FutureWarning: use_inf_as_na option is deprecated and will be removed in a future version. Convert inf values to NaN before operating instead.\n",
      "  with pd.option_context('mode.use_inf_as_na', True):\n",
      "c:\\Users\\saraf\\anaconda3\\Lib\\site-packages\\seaborn\\_oldcore.py:1119: FutureWarning: use_inf_as_na option is deprecated and will be removed in a future version. Convert inf values to NaN before operating instead.\n",
      "  with pd.option_context('mode.use_inf_as_na', True):\n"
     ]
    },
    {
     "data": {
      "image/png": "[encoded data removed]",
      "text/plain": [
       "<Figure size 1000x600 with 1 Axes>"
      ]
     },
     "metadata": {},
     "output_type": "display_data"
    }
   ],
   "source": [
    "# define parameter to explore\n",
    "seq_len_mat = np.array([50, 300, 1000])\n",
    "mperf_lists = []\n",
    "for seq_len in seq_len_mat:\n",
    "  num_periods = total_num_timesteps // seq_len\n",
    "  mperf_list, _ = train_multiple_networks(mean_ITI=mean_ITI, fix_dur=fix_dur, blk_dur=blk_dur,\n",
    "                            num_networks=num_networks, env=env,\n",
    "                            env_seed=env_seed, main_folder=main_folder, save_folder=save_folder,\n",
    "                            env_kwargs=env_kwargs, net_kwargs=net_kwargs, criterion=criterion,\n",
    "                            num_periods=num_periods, seq_len=seq_len)\n",
    "  mperf_lists.append(mperf_list)\n",
    "    \n",
    "# plot performance\n",
    "plot_mean_perf_by_seq_len(mperf_lists, seq_len_mat)"
   ]
  }
 ],
 "metadata": {
  "kernelspec": {
   "display_name": "base",
   "language": "python",
   "name": "python3"
  },
  "language_info": {
   "codemirror_mode": {
    "name": "ipython",
    "version": 3
   },
   "file_extension": ".py",
   "mimetype": "text/x-python",
   "name": "python",
   "nbconvert_exporter": "python",
   "pygments_lexer": "ipython3",
   "version": "3.11.5"
  },
  "orig_nbformat": 4
 },
 "nbformat": 4,
 "nbformat_minor": 2
}
