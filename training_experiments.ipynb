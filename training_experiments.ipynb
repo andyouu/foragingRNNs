{
 "cells": [
  {
   "attachments": {},
   "cell_type": "markdown",
   "metadata": {},
   "source": [
    "## Explore the impact of the number of steps per period on learning"
   ]
  },
  {
   "cell_type": "code",
   "execution_count": 64,
   "metadata": {},
   "outputs": [
    {
     "name": "stdout",
     "output_type": "stream",
     "text": [
      "The autoreload extension is already loaded. To reload it, use:\n",
      "  %reload_ext autoreload\n"
     ]
    }
   ],
   "source": [
    "%load_ext autoreload\n",
    "%autoreload 2\n",
    "\n",
    "# import libraries\n",
    "import torch.nn as nn\n",
    "import torch\n",
    "import numpy as np\n",
    "from forage_training import train_multiple_networks\n",
    "from forage_analysis import get_mean_perf_by_seq_len\n",
    "import ngym_foraging as ngym_f\n",
    "from ngym_foraging.wrappers import pass_reward, pass_action\n",
    "import gym\n",
    "import os\n",
    "import pandas as pd\n",
    "\n",
    "# GLOBAL VARIABLES\n",
    "# check if GPU is available\n",
    "DEVICE = 'cuda' if torch.cuda.is_available() else 'cpu'\n",
    "\n",
    "# name of the task on the neurogym library\n",
    "TASK = 'ForagingBlocks-v0'\n",
    "\n",
    "TRAINING_KWARGS = {'dt': 100,\n",
    "                   'lr': 1e-2,\n",
    "                   'batch_size': 16,\n",
    "                   'seq_len': 300,\n",
    "                   'TASK': TASK}"
   ]
  },
  {
   "cell_type": "code",
   "execution_count": 65,
   "metadata": {},
   "outputs": [],
   "source": [
    "# define parameters configuration\n",
    "env_seed = 123\n",
    "total_num_timesteps = 600000\n",
    "num_periods = total_num_timesteps // 300\n",
    "TRAINING_KWARGS['num_periods'] = num_periods\n",
    "# create folder to save data based on env seed\n",
    "# main_folder = 'C:/Users/saraf/OneDrive/Documentos/IDIBAPS/foraging RNNs/nets/'\n",
    "main_folder = '/home/molano/Dropbox/Molabo/foragingRNNs/' # '/home/molano/foragingRNNs_data/nets/'\n",
    "test_flag = 'test'\n",
    "filename = 'training_nets'+test_flag+'.csv'\n",
    "# Set up the task\n",
    "w_factor = 0.00001\n",
    "mean_ITI = 200\n",
    "max_ITI = 400\n",
    "fix_dur = 100\n",
    "dec_dur = 100\n",
    "blk_dur = 50\n",
    "probs = np.array([0.1, 0.9])\n",
    "env_kwargs = {'dt': TRAINING_KWARGS['dt'], 'probs': probs,\n",
    "              'blk_dur': blk_dur, 'timing':\n",
    "                  {'ITI': ngym_f.random.TruncExp(mean_ITI, 100, max_ITI),\n",
    "                    # mean, min, max\n",
    "                    'fixation': fix_dur, 'decision': dec_dur},\n",
    "                  # Decision period}\n",
    "                  'rewards': {'abort': 0., 'fixation': 0., 'correct': 1.}}\n",
    "TRAINING_KWARGS['classes_weights'] =\\\n",
    "    torch.tensor([w_factor*TRAINING_KWARGS['dt']/(mean_ITI),\n",
    "                  w_factor*TRAINING_KWARGS['dt']/fix_dur, 2, 2])\n",
    "# call function to sample\n",
    "env = gym.make(TASK, **env_kwargs)\n",
    "env = pass_reward.PassReward(env)\n",
    "env = pass_action.PassAction(env)\n",
    "# set seed\n",
    "env.seed(env_seed)\n",
    "env.reset()\n",
    "net_kwargs = {'hidden_size': 128,\n",
    "              'action_size': env.action_space.n,\n",
    "              'input_size': env.observation_space.shape[0]}\n",
    "TRAINING_KWARGS['env_kwargs'] = env_kwargs\n",
    "TRAINING_KWARGS['net_kwargs'] = net_kwargs\n",
    "\n",
    "# create folder to save data based on parameters\n",
    "save_folder = (f\"{main_folder}w{w_factor}_mITI{mean_ITI}_xITI{max_ITI}_f{fix_dur}_\"\n",
    "                f\"d{dec_dur}_nb{np.round(blk_dur/1e3, 1)}_\"\n",
    "                f\"prb{probs[0]}\")\n",
    "\n",
    "# Save config as npz\n",
    "np.savez(save_folder+'/config.npz', **TRAINING_KWARGS)\n",
    "\n",
    "num_steps_plot = 100\n",
    "num_steps_test = 10000\n",
    "debug = False\n",
    "num_networks = 20\n",
    "criterion = nn.CrossEntropyLoss(weight=TRAINING_KWARGS['classes_weights'])"
   ]
  },
  {
   "cell_type": "code",
   "execution_count": 66,
   "metadata": {},
   "outputs": [
    {
     "name": "stdout",
     "output_type": "stream",
     "text": [
      "Training networks with seq_len = 50\n",
      "Network 0\n",
      "Network 1\n",
      "Network 2\n",
      "Network 3\n",
      "Training networks with seq_len = 300\n",
      "Network 0\n",
      "Network 1\n",
      "Network 2\n"
     ]
    },
    {
     "ename": "KeyboardInterrupt",
     "evalue": "",
     "output_type": "error",
     "traceback": [
      "\u001b[0;31m---------------------------------------------------------------------------\u001b[0m",
      "\u001b[0;31mKeyboardInterrupt\u001b[0m                         Traceback (most recent call last)",
      "\u001b[0;32m<ipython-input-66-ee3a3183b0d4>\u001b[0m in \u001b[0;36m<module>\u001b[0;34m\u001b[0m\n\u001b[1;32m     12\u001b[0m                               \u001b[0menv_seed\u001b[0m\u001b[0;34m=\u001b[0m\u001b[0menv_seed\u001b[0m\u001b[0;34m,\u001b[0m \u001b[0mmain_folder\u001b[0m\u001b[0;34m=\u001b[0m\u001b[0mmain_folder\u001b[0m\u001b[0;34m,\u001b[0m \u001b[0msave_folder\u001b[0m\u001b[0;34m=\u001b[0m\u001b[0msave_folder\u001b[0m\u001b[0;34m,\u001b[0m\u001b[0;34m\u001b[0m\u001b[0;34m\u001b[0m\u001b[0m\n\u001b[1;32m     13\u001b[0m                               \u001b[0mfilename\u001b[0m\u001b[0;34m=\u001b[0m\u001b[0mfilename\u001b[0m\u001b[0;34m,\u001b[0m \u001b[0menv_kwargs\u001b[0m\u001b[0;34m=\u001b[0m\u001b[0menv_kwargs\u001b[0m\u001b[0;34m,\u001b[0m \u001b[0mnet_kwargs\u001b[0m\u001b[0;34m=\u001b[0m\u001b[0mnet_kwargs\u001b[0m\u001b[0;34m,\u001b[0m\u001b[0;34m\u001b[0m\u001b[0;34m\u001b[0m\u001b[0m\n\u001b[0;32m---> 14\u001b[0;31m                               criterion=criterion, num_periods=num_periods, seq_len=seq_len)\n\u001b[0m\u001b[1;32m     15\u001b[0m \u001b[0;34m\u001b[0m\u001b[0m\n\u001b[1;32m     16\u001b[0m \u001b[0mmperf_lists\u001b[0m \u001b[0;34m=\u001b[0m \u001b[0mget_mean_perf_by_seq_len\u001b[0m\u001b[0;34m(\u001b[0m\u001b[0mmain_folder\u001b[0m\u001b[0;34m,\u001b[0m \u001b[0mfilename\u001b[0m\u001b[0;34m,\u001b[0m \u001b[0mseq_len_mat\u001b[0m\u001b[0;34m,\u001b[0m \u001b[0mw_factor\u001b[0m\u001b[0;34m,\u001b[0m \u001b[0mmean_ITI\u001b[0m\u001b[0;34m,\u001b[0m \u001b[0mmax_ITI\u001b[0m\u001b[0;34m,\u001b[0m \u001b[0mfix_dur\u001b[0m\u001b[0;34m,\u001b[0m \u001b[0mdec_dur\u001b[0m\u001b[0;34m,\u001b[0m \u001b[0mblk_dur\u001b[0m\u001b[0;34m,\u001b[0m \u001b[0mprobs\u001b[0m\u001b[0;34m)\u001b[0m\u001b[0;34m\u001b[0m\u001b[0;34m\u001b[0m\u001b[0m\n",
      "\u001b[0;32m~/foragingRNNs/forage_training.py\u001b[0m in \u001b[0;36mtrain_multiple_networks\u001b[0;34m(mean_ITI, fix_dur, blk_dur, num_networks, env, env_seed, main_folder, save_folder, filename, env_kwargs, net_kwargs, criterion, num_periods, seq_len, debug, num_steps_test, num_steps_plot)\u001b[0m\n\u001b[1;32m    622\u001b[0m                                    \u001b[0mseq_len\u001b[0m\u001b[0;34m=\u001b[0m\u001b[0mseq_len\u001b[0m\u001b[0;34m,\u001b[0m\u001b[0;34m\u001b[0m\u001b[0;34m\u001b[0m\u001b[0m\n\u001b[1;32m    623\u001b[0m                                    \u001b[0mdebug\u001b[0m\u001b[0;34m=\u001b[0m\u001b[0mdebug\u001b[0m\u001b[0;34m,\u001b[0m \u001b[0mseed\u001b[0m\u001b[0;34m=\u001b[0m\u001b[0mseed\u001b[0m\u001b[0;34m,\u001b[0m\u001b[0;34m\u001b[0m\u001b[0;34m\u001b[0m\u001b[0m\n\u001b[0;32m--> 624\u001b[0;31m                                    save_folder=save_folder_net)\n\u001b[0m\u001b[1;32m    625\u001b[0m         \u001b[0;31m# save data as npz\u001b[0m\u001b[0;34m\u001b[0m\u001b[0;34m\u001b[0m\u001b[0;34m\u001b[0m\u001b[0m\n\u001b[1;32m    626\u001b[0m         \u001b[0mnp\u001b[0m\u001b[0;34m.\u001b[0m\u001b[0msavez\u001b[0m\u001b[0;34m(\u001b[0m\u001b[0msave_folder_net\u001b[0m \u001b[0;34m+\u001b[0m \u001b[0;34m'/data.npz'\u001b[0m\u001b[0;34m,\u001b[0m \u001b[0;34m**\u001b[0m\u001b[0mdata_behav\u001b[0m\u001b[0;34m)\u001b[0m\u001b[0;34m\u001b[0m\u001b[0;34m\u001b[0m\u001b[0m\n",
      "\u001b[0;32m~/foragingRNNs/forage_training.py\u001b[0m in \u001b[0;36mtrain_network\u001b[0;34m(num_periods, criterion, env, net_kwargs, env_kwargs, seq_len, debug, seed, save_folder)\u001b[0m\n\u001b[1;32m    346\u001b[0m         \u001b[0mloss\u001b[0m \u001b[0;34m=\u001b[0m \u001b[0mcriterion\u001b[0m\u001b[0;34m(\u001b[0m\u001b[0moutputs\u001b[0m\u001b[0;34m,\u001b[0m \u001b[0mlabels\u001b[0m\u001b[0;34m)\u001b[0m\u001b[0;34m\u001b[0m\u001b[0;34m\u001b[0m\u001b[0m\n\u001b[1;32m    347\u001b[0m         \u001b[0;31m# compute gradients\u001b[0m\u001b[0;34m\u001b[0m\u001b[0;34m\u001b[0m\u001b[0;34m\u001b[0m\u001b[0m\n\u001b[0;32m--> 348\u001b[0;31m         \u001b[0mloss\u001b[0m\u001b[0;34m.\u001b[0m\u001b[0mbackward\u001b[0m\u001b[0;34m(\u001b[0m\u001b[0;34m)\u001b[0m\u001b[0;34m\u001b[0m\u001b[0;34m\u001b[0m\u001b[0m\n\u001b[0m\u001b[1;32m    349\u001b[0m         \u001b[0;31m# update weights\u001b[0m\u001b[0;34m\u001b[0m\u001b[0;34m\u001b[0m\u001b[0;34m\u001b[0m\u001b[0m\n\u001b[1;32m    350\u001b[0m         \u001b[0moptimizer\u001b[0m\u001b[0;34m.\u001b[0m\u001b[0mstep\u001b[0m\u001b[0;34m(\u001b[0m\u001b[0;34m)\u001b[0m\u001b[0;34m\u001b[0m\u001b[0;34m\u001b[0m\u001b[0m\n",
      "\u001b[0;32m~/anaconda3/lib/python3.7/site-packages/torch/tensor.py\u001b[0m in \u001b[0;36mbackward\u001b[0;34m(self, gradient, retain_graph, create_graph, inputs)\u001b[0m\n\u001b[1;32m    243\u001b[0m                 \u001b[0mcreate_graph\u001b[0m\u001b[0;34m=\u001b[0m\u001b[0mcreate_graph\u001b[0m\u001b[0;34m,\u001b[0m\u001b[0;34m\u001b[0m\u001b[0;34m\u001b[0m\u001b[0m\n\u001b[1;32m    244\u001b[0m                 inputs=inputs)\n\u001b[0;32m--> 245\u001b[0;31m         \u001b[0mtorch\u001b[0m\u001b[0;34m.\u001b[0m\u001b[0mautograd\u001b[0m\u001b[0;34m.\u001b[0m\u001b[0mbackward\u001b[0m\u001b[0;34m(\u001b[0m\u001b[0mself\u001b[0m\u001b[0;34m,\u001b[0m \u001b[0mgradient\u001b[0m\u001b[0;34m,\u001b[0m \u001b[0mretain_graph\u001b[0m\u001b[0;34m,\u001b[0m \u001b[0mcreate_graph\u001b[0m\u001b[0;34m,\u001b[0m \u001b[0minputs\u001b[0m\u001b[0;34m=\u001b[0m\u001b[0minputs\u001b[0m\u001b[0;34m)\u001b[0m\u001b[0;34m\u001b[0m\u001b[0;34m\u001b[0m\u001b[0m\n\u001b[0m\u001b[1;32m    246\u001b[0m \u001b[0;34m\u001b[0m\u001b[0m\n\u001b[1;32m    247\u001b[0m     \u001b[0;32mdef\u001b[0m \u001b[0mregister_hook\u001b[0m\u001b[0;34m(\u001b[0m\u001b[0mself\u001b[0m\u001b[0;34m,\u001b[0m \u001b[0mhook\u001b[0m\u001b[0;34m)\u001b[0m\u001b[0;34m:\u001b[0m\u001b[0;34m\u001b[0m\u001b[0;34m\u001b[0m\u001b[0m\n",
      "\u001b[0;32m~/anaconda3/lib/python3.7/site-packages/torch/autograd/__init__.py\u001b[0m in \u001b[0;36mbackward\u001b[0;34m(tensors, grad_tensors, retain_graph, create_graph, grad_variables, inputs)\u001b[0m\n\u001b[1;32m    145\u001b[0m     Variable._execution_engine.run_backward(\n\u001b[1;32m    146\u001b[0m         \u001b[0mtensors\u001b[0m\u001b[0;34m,\u001b[0m \u001b[0mgrad_tensors_\u001b[0m\u001b[0;34m,\u001b[0m \u001b[0mretain_graph\u001b[0m\u001b[0;34m,\u001b[0m \u001b[0mcreate_graph\u001b[0m\u001b[0;34m,\u001b[0m \u001b[0minputs\u001b[0m\u001b[0;34m,\u001b[0m\u001b[0;34m\u001b[0m\u001b[0;34m\u001b[0m\u001b[0m\n\u001b[0;32m--> 147\u001b[0;31m         allow_unreachable=True, accumulate_grad=True)  # allow_unreachable flag\n\u001b[0m\u001b[1;32m    148\u001b[0m \u001b[0;34m\u001b[0m\u001b[0m\n\u001b[1;32m    149\u001b[0m \u001b[0;34m\u001b[0m\u001b[0m\n",
      "\u001b[0;31mKeyboardInterrupt\u001b[0m: "
     ]
    }
   ],
   "source": [
    "train = True\n",
    "# define parameter to explore\n",
    "seq_len_mat = np.array([50, 300, 1000])\n",
    "\n",
    "\n",
    "if train:\n",
    "  for seq_len in seq_len_mat:\n",
    "    print(f\"Training networks with seq_len = {seq_len}\")\n",
    "    num_periods = total_num_timesteps // seq_len\n",
    "    _, _ = train_multiple_networks(mean_ITI=mean_ITI, fix_dur=fix_dur, blk_dur=blk_dur,\n",
    "                              num_networks=num_networks, env=env,\n",
    "                              env_seed=env_seed, main_folder=main_folder, save_folder=save_folder,\n",
    "                              filename=filename, env_kwargs=env_kwargs, net_kwargs=net_kwargs,\n",
    "                              criterion=criterion, num_periods=num_periods, seq_len=seq_len)\n",
    "\n",
    "mperf_lists = get_mean_perf_by_seq_len(main_folder, filename, seq_len_mat, w_factor, mean_ITI, max_ITI, fix_dur, dec_dur, blk_dur, probs)"
   ]
  }
 ],
 "metadata": {
  "kernelspec": {
   "display_name": "base",
   "language": "python",
   "name": "python3"
  },
  "language_info": {
   "codemirror_mode": {
    "name": "ipython",
    "version": 3
   },
   "file_extension": ".py",
   "mimetype": "text/x-python",
   "name": "python",
   "nbconvert_exporter": "python",
   "pygments_lexer": "ipython3",
   "version": "3.7.4"
  },
  "orig_nbformat": 4
 },
 "nbformat": 4,
 "nbformat_minor": 2
}
