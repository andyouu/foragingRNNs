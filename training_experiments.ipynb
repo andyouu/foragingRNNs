{
 "cells": [
  {
   "attachments": {},
   "cell_type": "markdown",
   "metadata": {},
   "source": [
    "## Explore the impact of the number of steps per period on the learning"
   ]
  },
  {
   "cell_type": "code",
   "execution_count": null,
   "metadata": {},
   "outputs": [],
   "source": [
    "# define parameters configuration\n",
    "#     plt.close('all')\n",
    "#     env_seed = 123\n",
    "#     total_num_timesteps = 60000\n",
    "#     num_periods = 2000\n",
    "#     TRAINING_KWARGS['num_periods'] = num_periods\n",
    "#     # create folder to save data based on env seed\n",
    "#     main_folder = 'C:/Users/saraf/OneDrive/Documentos/IDIBAPS/foraging RNNs/nets/'\n",
    "#    # main_folder = '/home/molano/foragingRNNs_data/nets/'\n",
    "#     # Set up the task\n",
    "#     w_factor = 0.00001\n",
    "#     mean_ITI = 200\n",
    "#     max_ITI = 400\n",
    "#     fix_dur = 100\n",
    "#     dec_dur = 100\n",
    "#     blk_dur = 50\n",
    "#     probs = np.array([0.1, 0.9])\n",
    "# define parameter to explore\n",
    "# seq_len_mat = np.array([10, 20, 30, 40, 50, 60, 70, 80, 90, 100])\n",
    "# for seq_len in seq_len_mat:\n",
    "#   num_periods = total_num_timesteps // seq_len\n",
    "# plot performance\n"
   ]
  }
 ],
 "metadata": {
  "language_info": {
   "name": "python"
  },
  "orig_nbformat": 4
 },
 "nbformat": 4,
 "nbformat_minor": 2
}
